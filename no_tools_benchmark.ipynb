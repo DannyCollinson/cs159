{
 "cells": [
  {
   "cell_type": "code",
   "execution_count": 1,
   "metadata": {},
   "outputs": [],
   "source": [
    "import numpy as np\n",
    "\n",
    "import utils.general"
   ]
  },
  {
   "cell_type": "code",
   "execution_count": 2,
   "metadata": {},
   "outputs": [
    {
     "name": "stderr",
     "output_type": "stream",
     "text": [
      "Found local copy...\n"
     ]
    }
   ],
   "source": [
    "train_val, test = utils.general.load_dti_data()"
   ]
  },
  {
   "cell_type": "code",
   "execution_count": 3,
   "metadata": {},
   "outputs": [],
   "source": [
    "x, y = utils.general.format_input(data=test, num_samples=10, seed=1)"
   ]
  },
  {
   "cell_type": "code",
   "execution_count": 4,
   "metadata": {},
   "outputs": [],
   "source": [
    "client = utils.general.create_openai_client()"
   ]
  },
  {
   "cell_type": "code",
   "execution_count": 7,
   "metadata": {},
   "outputs": [
    {
     "ename": "AssertionError",
     "evalue": "There are 5 ground truth values, but only 10 predictions.",
     "output_type": "error",
     "traceback": [
      "\u001b[0;31m---------------------------------------------------------------------------\u001b[0m",
      "\u001b[0;31mAssertionError\u001b[0m                            Traceback (most recent call last)",
      "Cell \u001b[0;32mIn[7], line 39\u001b[0m\n\u001b[1;32m     35\u001b[0m res \u001b[38;5;241m=\u001b[39m messages\u001b[38;5;241m.\u001b[39mdict()[\u001b[38;5;124m'\u001b[39m\u001b[38;5;124mdata\u001b[39m\u001b[38;5;124m'\u001b[39m][\u001b[38;5;241m0\u001b[39m][\u001b[38;5;124m'\u001b[39m\u001b[38;5;124mcontent\u001b[39m\u001b[38;5;124m'\u001b[39m][\u001b[38;5;241m0\u001b[39m][\u001b[38;5;124m'\u001b[39m\u001b[38;5;124mtext\u001b[39m\u001b[38;5;124m'\u001b[39m][\u001b[38;5;124m'\u001b[39m\u001b[38;5;124mvalue\u001b[39m\u001b[38;5;124m'\u001b[39m]\n\u001b[1;32m     37\u001b[0m pred \u001b[38;5;241m=\u001b[39m utils\u001b[38;5;241m.\u001b[39mgeneral\u001b[38;5;241m.\u001b[39mextract_predictions(res)\n\u001b[0;32m---> 39\u001b[0m score \u001b[38;5;241m=\u001b[39m \u001b[43mutils\u001b[49m\u001b[38;5;241;43m.\u001b[39;49m\u001b[43mgeneral\u001b[49m\u001b[38;5;241;43m.\u001b[39;49m\u001b[43mscore_predictions\u001b[49m\u001b[43m(\u001b[49m\u001b[43mpred\u001b[49m\u001b[43m,\u001b[49m\u001b[43m \u001b[49m\u001b[43my\u001b[49m\u001b[43m)\u001b[49m\n\u001b[1;32m     40\u001b[0m log_score \u001b[38;5;241m=\u001b[39m utils\u001b[38;5;241m.\u001b[39mgeneral\u001b[38;5;241m.\u001b[39mscore_predictions(np\u001b[38;5;241m.\u001b[39mlog(pred), y)\n\u001b[1;32m     41\u001b[0m \u001b[38;5;28mprint\u001b[39m(\u001b[38;5;124m'\u001b[39m\u001b[38;5;124mPearson Correlation Coefficient: \u001b[39m\u001b[38;5;132;01m{0:.3}\u001b[39;00m\u001b[38;5;124m'\u001b[39m\u001b[38;5;241m.\u001b[39mformat(score))\n",
      "File \u001b[0;32m~/documents/caltech_2023-2024/cs159/cs159/utils/general.py:138\u001b[0m, in \u001b[0;36mscore_predictions\u001b[0;34m(pred, true)\u001b[0m\n\u001b[1;32m    119\u001b[0m \u001b[38;5;250m\u001b[39m\u001b[38;5;124;03m'''\u001b[39;00m\n\u001b[1;32m    120\u001b[0m \u001b[38;5;124;03mReturns the Pearson Correlation Coefficient score\u001b[39;00m\n\u001b[1;32m    121\u001b[0m \u001b[38;5;124;03mused by TDC for the DTI task.\u001b[39;00m\n\u001b[0;32m   (...)\u001b[0m\n\u001b[1;32m    132\u001b[0m \u001b[38;5;124;03m    score: Pearson Correlation coefficient of the inputs\u001b[39;00m\n\u001b[1;32m    133\u001b[0m \u001b[38;5;124;03m'''\u001b[39;00m\n\u001b[1;32m    134\u001b[0m \u001b[38;5;28;01massert\u001b[39;00m \u001b[38;5;28mlen\u001b[39m(pred) \u001b[38;5;241m<\u001b[39m\u001b[38;5;241m=\u001b[39m \u001b[38;5;28mlen\u001b[39m(true), (\n\u001b[1;32m    135\u001b[0m     \u001b[38;5;124mf\u001b[39m\u001b[38;5;124m'\u001b[39m\u001b[38;5;124mThere are \u001b[39m\u001b[38;5;132;01m{\u001b[39;00m\u001b[38;5;28mlen\u001b[39m(pred)\u001b[38;5;132;01m}\u001b[39;00m\u001b[38;5;124m predictions, \u001b[39m\u001b[38;5;124m'\u001b[39m\n\u001b[1;32m    136\u001b[0m     \u001b[38;5;124mf\u001b[39m\u001b[38;5;124m'\u001b[39m\u001b[38;5;124mbut only \u001b[39m\u001b[38;5;132;01m{\u001b[39;00m\u001b[38;5;28mlen\u001b[39m(true)\u001b[38;5;132;01m}\u001b[39;00m\u001b[38;5;124m ground truth values.\u001b[39m\u001b[38;5;124m'\u001b[39m\n\u001b[1;32m    137\u001b[0m )\n\u001b[0;32m--> 138\u001b[0m \u001b[38;5;28;01massert\u001b[39;00m \u001b[38;5;28mlen\u001b[39m(pred) \u001b[38;5;241m>\u001b[39m\u001b[38;5;241m=\u001b[39m \u001b[38;5;28mlen\u001b[39m(true), (\n\u001b[1;32m    139\u001b[0m     \u001b[38;5;124mf\u001b[39m\u001b[38;5;124m'\u001b[39m\u001b[38;5;124mThere are \u001b[39m\u001b[38;5;132;01m{\u001b[39;00m\u001b[38;5;28mlen\u001b[39m(pred)\u001b[38;5;132;01m}\u001b[39;00m\u001b[38;5;124m ground truth values, \u001b[39m\u001b[38;5;124m'\u001b[39m\n\u001b[1;32m    140\u001b[0m     \u001b[38;5;124mf\u001b[39m\u001b[38;5;124m'\u001b[39m\u001b[38;5;124mbut only \u001b[39m\u001b[38;5;132;01m{\u001b[39;00m\u001b[38;5;28mlen\u001b[39m(true)\u001b[38;5;132;01m}\u001b[39;00m\u001b[38;5;124m predictions.\u001b[39m\u001b[38;5;124m'\u001b[39m\n\u001b[1;32m    141\u001b[0m )\n\u001b[1;32m    142\u001b[0m \u001b[38;5;28;01mreturn\u001b[39;00m np\u001b[38;5;241m.\u001b[39mcorrcoef(pred, true[:\u001b[38;5;28mlen\u001b[39m(pred)])[\u001b[38;5;241m0\u001b[39m,\u001b[38;5;241m1\u001b[39m]\n",
      "\u001b[0;31mAssertionError\u001b[0m: There are 5 ground truth values, but only 10 predictions."
     ]
    }
   ],
   "source": [
    "notools_assistant = client.beta.assistants.create(\n",
    "    model='gpt-4o',\n",
    "    name='No-Tools',\n",
    "    instructions=(\n",
    "'''You are an artificial super-intelligence capable of solving computational biology problems with very little information available to you.\n",
    "You are tasked with computing the dissociation constant (Kd) between a drug molecule given by its SMILES string and a target protein given by its amino acid sequence.\n",
    "Every query will consist of a number of rows, each of which has the SMILES string of a drug molecule, followed by a space, and then the amino acid sequence of the target protein, concluded by a newline.\n",
    "For each row, you must predict the dissociation constant Kd.\n",
    "The answers should be in units of nanomolar (nM).\n",
    "Please preface each answer with three less than signs and a space, and finish each answer with a space and three greater than signs, with only a numerical value inside.\n",
    "Here is an example of an input row:\n",
    "O=C(O)CCC(=O)C(=O)O MANDSGGPGGPSPSERDRQYCELCGKMENLLRCSRCRSSFYCCKEHQRQDWKKHKLVCQGSEGALGHGVGPHQHSGPAPPAAVPPPRAGAREPRKAAARRDNASGDAAKGKVKAKPPADPAAAASPCRAAAGGQGSAVAAEAEPGKEEPPARSSLFQEKANLYPPSNTPGDALSPGGGLRPNGQTKPLPALKLALEYIVPCMNKHGICVVDDFLGKETGQQIGDEVRALHDTGKFTDGQLVSQKSDSSKDIRGDKITWIEGKEPGCETIGLLMSSMDDLIRHCNGKLGSYKINGRTKAMVACYPGNGTGYVRHVDNPNGDGRCVTCIYYLNKDWDAKVSGGILRIFPEGKAQFADIEPKFDRLLFFWSDRRNPHEVQPAYATRYAITVWYFDADERARAKVKYLTGEKGVRVELNKPSDSVGKDVF\n",
    "If the query were to contain that input row, you would report the following: >>> 900.0 <<<\n",
    "You must make your best estimate of a numerical value for each row, and make sure that each row has exactly one answer.'''\n",
    "    ),\n",
    "    tools=[],\n",
    "    temperature=0.2\n",
    ")\n",
    "\n",
    "thread = client.beta.threads.create()\n",
    "\n",
    "message = client.beta.threads.messages.create(\n",
    "    thread_id=thread.id,\n",
    "    role='user',\n",
    "    content=x\n",
    ")\n",
    "\n",
    "run = client.beta.threads.runs.create_and_poll(\n",
    "  thread_id=thread.id,\n",
    "  assistant_id=notools_assistant.id\n",
    ")\n",
    "\n",
    "messages = client.beta.threads.messages.list(thread_id=thread.id)\n",
    "\n",
    "res = messages.dict()['data'][0]['content'][0]['text']['value']\n",
    "\n",
    "pred = utils.general.extract_predictions(res)\n",
    "\n",
    "score = utils.general.score_predictions(pred, y)\n",
    "log_score = utils.general.score_predictions(np.log(pred), y)\n",
    "print('Pearson Correlation Coefficient: {0:.3}'.format(score))\n",
    "print('With log: {0:.3}\\n'.format(log_score))\n",
    "print(np.vstack([np.log(pred), y]).T)"
   ]
  },
  {
   "cell_type": "code",
   "execution_count": null,
   "metadata": {},
   "outputs": [],
   "source": []
  }
 ],
 "metadata": {
  "kernelspec": {
   "display_name": "cs159",
   "language": "python",
   "name": "cs159"
  },
  "language_info": {
   "codemirror_mode": {
    "name": "ipython",
    "version": 3
   },
   "file_extension": ".py",
   "mimetype": "text/x-python",
   "name": "python",
   "nbconvert_exporter": "python",
   "pygments_lexer": "ipython3",
   "version": "3.12.3"
  }
 },
 "nbformat": 4,
 "nbformat_minor": 2
}
